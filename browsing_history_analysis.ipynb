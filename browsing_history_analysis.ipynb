{
 "cells": [
  {
   "cell_type": "code",
   "execution_count": 207,
   "id": "ef7c0d91",
   "metadata": {},
   "outputs": [],
   "source": [
    "# importing required libraries\n",
    "import pandas as pd\n",
    "import numpy as np\n",
    "import seaborn as sns\n",
    "import matplotlib.pyplot as plt\n",
    "%matplotlib inline"
   ]
  },
  {
   "cell_type": "code",
   "execution_count": 208,
   "id": "db7628cd",
   "metadata": {},
   "outputs": [],
   "source": [
    "import warnings as ws\n",
    "ws.filterwarnings('ignore')"
   ]
  },
  {
   "cell_type": "code",
   "execution_count": 209,
   "id": "438f24bc",
   "metadata": {},
   "outputs": [],
   "source": [
    "# loading the data\n",
    "df = pd.read_csv(\"C:/Users/Ashutosh19/Desktop/py_demo_client_extension_30_20250221075805.csv\")"
   ]
  },
  {
   "cell_type": "code",
   "execution_count": 210,
   "id": "32fc4392",
   "metadata": {},
   "outputs": [
    {
     "data": {
      "text/html": [
       "<div>\n",
       "<style scoped>\n",
       "    .dataframe tbody tr th:only-of-type {\n",
       "        vertical-align: middle;\n",
       "    }\n",
       "\n",
       "    .dataframe tbody tr th {\n",
       "        vertical-align: top;\n",
       "    }\n",
       "\n",
       "    .dataframe thead th {\n",
       "        text-align: right;\n",
       "    }\n",
       "</style>\n",
       "<table border=\"1\" class=\"dataframe\">\n",
       "  <thead>\n",
       "    <tr style=\"text-align: right;\">\n",
       "      <th></th>\n",
       "      <th>Summary</th>\n",
       "      <th>Unnamed: 1</th>\n",
       "      <th>Unnamed: 2</th>\n",
       "      <th>Unnamed: 3</th>\n",
       "      <th>Unnamed: 4</th>\n",
       "      <th>Unnamed: 5</th>\n",
       "      <th>Unnamed: 6</th>\n",
       "      <th>Unnamed: 7</th>\n",
       "      <th>Unnamed: 8</th>\n",
       "      <th>Unnamed: 9</th>\n",
       "    </tr>\n",
       "  </thead>\n",
       "  <tbody>\n",
       "    <tr>\n",
       "      <th>0</th>\n",
       "      <td>OrgId</td>\n",
       "      <td>ParticipantId</td>\n",
       "      <td>DeviceId</td>\n",
       "      <td>InstalledDate</td>\n",
       "      <td>AcceptanceDate</td>\n",
       "      <td>Extension</td>\n",
       "      <td>BrowsingCount</td>\n",
       "      <td>BookmarkCount</td>\n",
       "      <td>CookieCount</td>\n",
       "      <td>NaN</td>\n",
       "    </tr>\n",
       "    <tr>\n",
       "      <th>1</th>\n",
       "      <td>py_demo_client</td>\n",
       "      <td>demoUser@py-insights.com</td>\n",
       "      <td>2nwjevbvxzm7ehb254</td>\n",
       "      <td>2025-02-20T23:58:02-08:00</td>\n",
       "      <td>2025-02-20T23:58:20-08:00</td>\n",
       "      <td>Chrome</td>\n",
       "      <td>5104</td>\n",
       "      <td>0</td>\n",
       "      <td>0</td>\n",
       "      <td>NaN</td>\n",
       "    </tr>\n",
       "    <tr>\n",
       "      <th>2</th>\n",
       "      <td>NaN</td>\n",
       "      <td>NaN</td>\n",
       "      <td>NaN</td>\n",
       "      <td>NaN</td>\n",
       "      <td>NaN</td>\n",
       "      <td>NaN</td>\n",
       "      <td>NaN</td>\n",
       "      <td>NaN</td>\n",
       "      <td>NaN</td>\n",
       "      <td>NaN</td>\n",
       "    </tr>\n",
       "    <tr>\n",
       "      <th>3</th>\n",
       "      <td>Browsing</td>\n",
       "      <td>NaN</td>\n",
       "      <td>NaN</td>\n",
       "      <td>NaN</td>\n",
       "      <td>NaN</td>\n",
       "      <td>NaN</td>\n",
       "      <td>NaN</td>\n",
       "      <td>NaN</td>\n",
       "      <td>NaN</td>\n",
       "      <td>NaN</td>\n",
       "    </tr>\n",
       "    <tr>\n",
       "      <th>4</th>\n",
       "      <td>OrgId</td>\n",
       "      <td>ParticipantId</td>\n",
       "      <td>DeviceId</td>\n",
       "      <td>url</td>\n",
       "      <td>eventtimeutc</td>\n",
       "      <td>transition</td>\n",
       "      <td>title</td>\n",
       "      <td>visitId</td>\n",
       "      <td>referringVisitId</td>\n",
       "      <td>eventtime</td>\n",
       "    </tr>\n",
       "    <tr>\n",
       "      <th>5</th>\n",
       "      <td>py_demo_client</td>\n",
       "      <td>demo</td>\n",
       "      <td>2nwjevbvxzm7ehb254</td>\n",
       "      <td>chrome-extension://hkmmnfimlpcphpgnmgdecpdpaef...</td>\n",
       "      <td>2025-02-21T07:58:02.688Z</td>\n",
       "      <td>link</td>\n",
       "      <td>NaN</td>\n",
       "      <td>166328</td>\n",
       "      <td>0</td>\n",
       "      <td>2025-02-20T23:58:02-08:00</td>\n",
       "    </tr>\n",
       "    <tr>\n",
       "      <th>6</th>\n",
       "      <td>py_demo_client</td>\n",
       "      <td>demo</td>\n",
       "      <td>2nwjevbvxzm7ehb254</td>\n",
       "      <td>https://chromewebstore.google.com/detail/snaps...</td>\n",
       "      <td>2025-02-21T07:57:51.308Z</td>\n",
       "      <td>link</td>\n",
       "      <td>Snapshot - Chrome Web Store</td>\n",
       "      <td>166327</td>\n",
       "      <td>166326</td>\n",
       "      <td>2025-02-20T23:57:51-08:00</td>\n",
       "    </tr>\n",
       "    <tr>\n",
       "      <th>7</th>\n",
       "      <td>py_demo_client</td>\n",
       "      <td>demo</td>\n",
       "      <td>2nwjevbvxzm7ehb254</td>\n",
       "      <td>https://py-insights.com/account/demo/product?s...</td>\n",
       "      <td>2025-02-21T07:57:40.972Z</td>\n",
       "      <td>link</td>\n",
       "      <td>PY Insights | Product</td>\n",
       "      <td>166319</td>\n",
       "      <td>0</td>\n",
       "      <td>2025-02-20T23:57:40-08:00</td>\n",
       "    </tr>\n",
       "    <tr>\n",
       "      <th>8</th>\n",
       "      <td>py_demo_client</td>\n",
       "      <td>demo</td>\n",
       "      <td>2nwjevbvxzm7ehb254</td>\n",
       "      <td>https://py-insights.com/account/demo/product?s...</td>\n",
       "      <td>2025-02-21T07:57:40.988Z</td>\n",
       "      <td>link</td>\n",
       "      <td>PY Insights | Product</td>\n",
       "      <td>166321</td>\n",
       "      <td>0</td>\n",
       "      <td>2025-02-20T23:57:40-08:00</td>\n",
       "    </tr>\n",
       "    <tr>\n",
       "      <th>9</th>\n",
       "      <td>py_demo_client</td>\n",
       "      <td>demo</td>\n",
       "      <td>2nwjevbvxzm7ehb254</td>\n",
       "      <td>https://py-insights.com/account/demo/product</td>\n",
       "      <td>2025-02-21T07:57:38.017Z</td>\n",
       "      <td>link</td>\n",
       "      <td>PY Insights | Product</td>\n",
       "      <td>166318</td>\n",
       "      <td>0</td>\n",
       "      <td>2025-02-20T23:57:38-08:00</td>\n",
       "    </tr>\n",
       "  </tbody>\n",
       "</table>\n",
       "</div>"
      ],
      "text/plain": [
       "          Summary                Unnamed: 1          Unnamed: 2  \\\n",
       "0           OrgId             ParticipantId            DeviceId   \n",
       "1  py_demo_client  demoUser@py-insights.com  2nwjevbvxzm7ehb254   \n",
       "2             NaN                       NaN                 NaN   \n",
       "3        Browsing                       NaN                 NaN   \n",
       "4           OrgId             ParticipantId            DeviceId   \n",
       "5  py_demo_client                      demo  2nwjevbvxzm7ehb254   \n",
       "6  py_demo_client                      demo  2nwjevbvxzm7ehb254   \n",
       "7  py_demo_client                      demo  2nwjevbvxzm7ehb254   \n",
       "8  py_demo_client                      demo  2nwjevbvxzm7ehb254   \n",
       "9  py_demo_client                      demo  2nwjevbvxzm7ehb254   \n",
       "\n",
       "                                          Unnamed: 3  \\\n",
       "0                                      InstalledDate   \n",
       "1                          2025-02-20T23:58:02-08:00   \n",
       "2                                                NaN   \n",
       "3                                                NaN   \n",
       "4                                                url   \n",
       "5  chrome-extension://hkmmnfimlpcphpgnmgdecpdpaef...   \n",
       "6  https://chromewebstore.google.com/detail/snaps...   \n",
       "7  https://py-insights.com/account/demo/product?s...   \n",
       "8  https://py-insights.com/account/demo/product?s...   \n",
       "9       https://py-insights.com/account/demo/product   \n",
       "\n",
       "                  Unnamed: 4  Unnamed: 5                   Unnamed: 6  \\\n",
       "0             AcceptanceDate   Extension                BrowsingCount   \n",
       "1  2025-02-20T23:58:20-08:00      Chrome                         5104   \n",
       "2                        NaN         NaN                          NaN   \n",
       "3                        NaN         NaN                          NaN   \n",
       "4               eventtimeutc  transition                        title   \n",
       "5   2025-02-21T07:58:02.688Z        link                          NaN   \n",
       "6   2025-02-21T07:57:51.308Z        link  Snapshot - Chrome Web Store   \n",
       "7   2025-02-21T07:57:40.972Z        link        PY Insights | Product   \n",
       "8   2025-02-21T07:57:40.988Z        link        PY Insights | Product   \n",
       "9   2025-02-21T07:57:38.017Z        link        PY Insights | Product   \n",
       "\n",
       "      Unnamed: 7        Unnamed: 8                 Unnamed: 9  \n",
       "0  BookmarkCount       CookieCount                        NaN  \n",
       "1              0                 0                        NaN  \n",
       "2            NaN               NaN                        NaN  \n",
       "3            NaN               NaN                        NaN  \n",
       "4        visitId  referringVisitId                  eventtime  \n",
       "5         166328                 0  2025-02-20T23:58:02-08:00  \n",
       "6         166327            166326  2025-02-20T23:57:51-08:00  \n",
       "7         166319                 0  2025-02-20T23:57:40-08:00  \n",
       "8         166321                 0  2025-02-20T23:57:40-08:00  \n",
       "9         166318                 0  2025-02-20T23:57:38-08:00  "
      ]
     },
     "execution_count": 210,
     "metadata": {},
     "output_type": "execute_result"
    }
   ],
   "source": [
    "# basic overview: first few rows and all columns\n",
    "df.head(10)"
   ]
  },
  {
   "cell_type": "code",
   "execution_count": 211,
   "id": "85000f46",
   "metadata": {},
   "outputs": [
    {
     "name": "stdout",
     "output_type": "stream",
     "text": [
      "Index(['OrgId', 'ParticipantId', 'DeviceId', 'url', 'eventtimeutc',\n",
      "       'transition', 'title', 'visitId', 'referringVisitId', 'eventtime'],\n",
      "      dtype='object')\n"
     ]
    },
    {
     "data": {
      "text/html": [
       "<div>\n",
       "<style scoped>\n",
       "    .dataframe tbody tr th:only-of-type {\n",
       "        vertical-align: middle;\n",
       "    }\n",
       "\n",
       "    .dataframe tbody tr th {\n",
       "        vertical-align: top;\n",
       "    }\n",
       "\n",
       "    .dataframe thead th {\n",
       "        text-align: right;\n",
       "    }\n",
       "</style>\n",
       "<table border=\"1\" class=\"dataframe\">\n",
       "  <thead>\n",
       "    <tr style=\"text-align: right;\">\n",
       "      <th></th>\n",
       "      <th>OrgId</th>\n",
       "      <th>ParticipantId</th>\n",
       "      <th>DeviceId</th>\n",
       "      <th>url</th>\n",
       "      <th>eventtimeutc</th>\n",
       "      <th>transition</th>\n",
       "      <th>title</th>\n",
       "      <th>visitId</th>\n",
       "      <th>referringVisitId</th>\n",
       "      <th>eventtime</th>\n",
       "    </tr>\n",
       "  </thead>\n",
       "  <tbody>\n",
       "    <tr>\n",
       "      <th>0</th>\n",
       "      <td>py_demo_client</td>\n",
       "      <td>demo</td>\n",
       "      <td>2nwjevbvxzm7ehb254</td>\n",
       "      <td>chrome-extension://hkmmnfimlpcphpgnmgdecpdpaef...</td>\n",
       "      <td>2025-02-21T07:58:02.688Z</td>\n",
       "      <td>link</td>\n",
       "      <td>NaN</td>\n",
       "      <td>166328</td>\n",
       "      <td>0</td>\n",
       "      <td>2025-02-20T23:58:02-08:00</td>\n",
       "    </tr>\n",
       "    <tr>\n",
       "      <th>1</th>\n",
       "      <td>py_demo_client</td>\n",
       "      <td>demo</td>\n",
       "      <td>2nwjevbvxzm7ehb254</td>\n",
       "      <td>https://chromewebstore.google.com/detail/snaps...</td>\n",
       "      <td>2025-02-21T07:57:51.308Z</td>\n",
       "      <td>link</td>\n",
       "      <td>Snapshot - Chrome Web Store</td>\n",
       "      <td>166327</td>\n",
       "      <td>166326</td>\n",
       "      <td>2025-02-20T23:57:51-08:00</td>\n",
       "    </tr>\n",
       "    <tr>\n",
       "      <th>2</th>\n",
       "      <td>py_demo_client</td>\n",
       "      <td>demo</td>\n",
       "      <td>2nwjevbvxzm7ehb254</td>\n",
       "      <td>https://py-insights.com/account/demo/product?s...</td>\n",
       "      <td>2025-02-21T07:57:40.972Z</td>\n",
       "      <td>link</td>\n",
       "      <td>PY Insights | Product</td>\n",
       "      <td>166319</td>\n",
       "      <td>0</td>\n",
       "      <td>2025-02-20T23:57:40-08:00</td>\n",
       "    </tr>\n",
       "  </tbody>\n",
       "</table>\n",
       "</div>"
      ],
      "text/plain": [
       "            OrgId ParticipantId            DeviceId  \\\n",
       "0  py_demo_client          demo  2nwjevbvxzm7ehb254   \n",
       "1  py_demo_client          demo  2nwjevbvxzm7ehb254   \n",
       "2  py_demo_client          demo  2nwjevbvxzm7ehb254   \n",
       "\n",
       "                                                 url  \\\n",
       "0  chrome-extension://hkmmnfimlpcphpgnmgdecpdpaef...   \n",
       "1  https://chromewebstore.google.com/detail/snaps...   \n",
       "2  https://py-insights.com/account/demo/product?s...   \n",
       "\n",
       "               eventtimeutc transition                        title  visitId  \\\n",
       "0  2025-02-21T07:58:02.688Z       link                          NaN   166328   \n",
       "1  2025-02-21T07:57:51.308Z       link  Snapshot - Chrome Web Store   166327   \n",
       "2  2025-02-21T07:57:40.972Z       link        PY Insights | Product   166319   \n",
       "\n",
       "   referringVisitId                  eventtime  \n",
       "0                 0  2025-02-20T23:58:02-08:00  \n",
       "1            166326  2025-02-20T23:57:51-08:00  \n",
       "2                 0  2025-02-20T23:57:40-08:00  "
      ]
     },
     "execution_count": 211,
     "metadata": {},
     "output_type": "execute_result"
    }
   ],
   "source": [
    "# re-loading the data: (1) proper columns names assigned, excluding the basic metadata part (2) actual data starts at 5th row\n",
    "df = pd.read_csv(\"C:/Users/Ashutosh19/Desktop/py_demo_client_extension_30_20250221075805.csv\", header = 5)\n",
    "print(df.columns)\n",
    "df.head(3)"
   ]
  },
  {
   "cell_type": "code",
   "execution_count": 212,
   "id": "beeb2805",
   "metadata": {},
   "outputs": [
    {
     "data": {
      "text/html": [
       "<div>\n",
       "<style scoped>\n",
       "    .dataframe tbody tr th:only-of-type {\n",
       "        vertical-align: middle;\n",
       "    }\n",
       "\n",
       "    .dataframe tbody tr th {\n",
       "        vertical-align: top;\n",
       "    }\n",
       "\n",
       "    .dataframe thead th {\n",
       "        text-align: right;\n",
       "    }\n",
       "</style>\n",
       "<table border=\"1\" class=\"dataframe\">\n",
       "  <thead>\n",
       "    <tr style=\"text-align: right;\">\n",
       "      <th></th>\n",
       "      <th>OrgId</th>\n",
       "      <th>ParticipantId</th>\n",
       "      <th>DeviceId</th>\n",
       "      <th>url</th>\n",
       "      <th>eventtimeutc</th>\n",
       "      <th>transition</th>\n",
       "      <th>title</th>\n",
       "      <th>visitId</th>\n",
       "      <th>referringVisitId</th>\n",
       "      <th>eventtime</th>\n",
       "    </tr>\n",
       "  </thead>\n",
       "  <tbody>\n",
       "    <tr>\n",
       "      <th>2359</th>\n",
       "      <td>py_demo_client</td>\n",
       "      <td>demo</td>\n",
       "      <td>2nwjevbvxzm7ehb254</td>\n",
       "      <td>https://www.google.com/search?q=Hogwarts+&amp;clie...</td>\n",
       "      <td>2025-02-08T00:02:41.267Z</td>\n",
       "      <td>link</td>\n",
       "      <td>Hogwarts - Google Search</td>\n",
       "      <td>163924</td>\n",
       "      <td>0</td>\n",
       "      <td>2025-02-07T16:02:41-08:00</td>\n",
       "    </tr>\n",
       "    <tr>\n",
       "      <th>3987</th>\n",
       "      <td>py_demo_client</td>\n",
       "      <td>demo</td>\n",
       "      <td>2nwjevbvxzm7ehb254</td>\n",
       "      <td>https://www.zipair.net/en/booking/calendar/out...</td>\n",
       "      <td>2025-01-29T07:50:00.221Z</td>\n",
       "      <td>link</td>\n",
       "      <td>Select Date of Outbound Flight | ZIPAIR Offici...</td>\n",
       "      <td>161920</td>\n",
       "      <td>161919</td>\n",
       "      <td>2025-01-28T23:50:00-08:00</td>\n",
       "    </tr>\n",
       "    <tr>\n",
       "      <th>3032</th>\n",
       "      <td>py_demo_client</td>\n",
       "      <td>demo</td>\n",
       "      <td>2nwjevbvxzm7ehb254</td>\n",
       "      <td>https://www.flipkart.com/playshifu-tacto-docto...</td>\n",
       "      <td>2025-02-03T02:37:21.707Z</td>\n",
       "      <td>link</td>\n",
       "      <td>Flipkart</td>\n",
       "      <td>163137</td>\n",
       "      <td>0</td>\n",
       "      <td>2025-02-02T18:37:21-08:00</td>\n",
       "    </tr>\n",
       "  </tbody>\n",
       "</table>\n",
       "</div>"
      ],
      "text/plain": [
       "               OrgId ParticipantId            DeviceId  \\\n",
       "2359  py_demo_client          demo  2nwjevbvxzm7ehb254   \n",
       "3987  py_demo_client          demo  2nwjevbvxzm7ehb254   \n",
       "3032  py_demo_client          demo  2nwjevbvxzm7ehb254   \n",
       "\n",
       "                                                    url  \\\n",
       "2359  https://www.google.com/search?q=Hogwarts+&clie...   \n",
       "3987  https://www.zipair.net/en/booking/calendar/out...   \n",
       "3032  https://www.flipkart.com/playshifu-tacto-docto...   \n",
       "\n",
       "                  eventtimeutc transition  \\\n",
       "2359  2025-02-08T00:02:41.267Z       link   \n",
       "3987  2025-01-29T07:50:00.221Z       link   \n",
       "3032  2025-02-03T02:37:21.707Z       link   \n",
       "\n",
       "                                                  title  visitId  \\\n",
       "2359                           Hogwarts - Google Search   163924   \n",
       "3987  Select Date of Outbound Flight | ZIPAIR Offici...   161920   \n",
       "3032                                           Flipkart   163137   \n",
       "\n",
       "      referringVisitId                  eventtime  \n",
       "2359                 0  2025-02-07T16:02:41-08:00  \n",
       "3987            161919  2025-01-28T23:50:00-08:00  \n",
       "3032                 0  2025-02-02T18:37:21-08:00  "
      ]
     },
     "execution_count": 212,
     "metadata": {},
     "output_type": "execute_result"
    }
   ],
   "source": [
    "# random sample \n",
    "df.sample(3)"
   ]
  },
  {
   "cell_type": "code",
   "execution_count": 213,
   "id": "71309da0",
   "metadata": {},
   "outputs": [
    {
     "data": {
      "text/html": [
       "<div>\n",
       "<style scoped>\n",
       "    .dataframe tbody tr th:only-of-type {\n",
       "        vertical-align: middle;\n",
       "    }\n",
       "\n",
       "    .dataframe tbody tr th {\n",
       "        vertical-align: top;\n",
       "    }\n",
       "\n",
       "    .dataframe thead th {\n",
       "        text-align: right;\n",
       "    }\n",
       "</style>\n",
       "<table border=\"1\" class=\"dataframe\">\n",
       "  <thead>\n",
       "    <tr style=\"text-align: right;\">\n",
       "      <th></th>\n",
       "      <th>OrgId</th>\n",
       "      <th>ParticipantId</th>\n",
       "      <th>DeviceId</th>\n",
       "      <th>url</th>\n",
       "      <th>eventtimeutc</th>\n",
       "      <th>transition</th>\n",
       "      <th>title</th>\n",
       "      <th>visitId</th>\n",
       "      <th>referringVisitId</th>\n",
       "      <th>eventtime</th>\n",
       "    </tr>\n",
       "  </thead>\n",
       "  <tbody>\n",
       "    <tr>\n",
       "      <th>5101</th>\n",
       "      <td>py_demo_client</td>\n",
       "      <td>demo</td>\n",
       "      <td>2nwjevbvxzm7ehb254</td>\n",
       "      <td>https://www.avios.com/manage-avios/move-and-co...</td>\n",
       "      <td>2025-01-21T11:00:37.059Z</td>\n",
       "      <td>link</td>\n",
       "      <td>Convert Avios: Nectar &amp;#44;  Finnair Plus &amp;#44...</td>\n",
       "      <td>160211</td>\n",
       "      <td>0</td>\n",
       "      <td>2025-01-21T03:00:37-08:00</td>\n",
       "    </tr>\n",
       "    <tr>\n",
       "      <th>5102</th>\n",
       "      <td>py_demo_client</td>\n",
       "      <td>demo</td>\n",
       "      <td>2nwjevbvxzm7ehb254</td>\n",
       "      <td>https://www.avios.com/manage-avios/move-and-co...</td>\n",
       "      <td>2025-01-21T11:00:35.229Z</td>\n",
       "      <td>typed</td>\n",
       "      <td>Convert Avios: Nectar &amp;#44;  Finnair Plus &amp;#44...</td>\n",
       "      <td>160209</td>\n",
       "      <td>0</td>\n",
       "      <td>2025-01-21T03:00:35-08:00</td>\n",
       "    </tr>\n",
       "    <tr>\n",
       "      <th>5103</th>\n",
       "      <td>py_demo_client</td>\n",
       "      <td>demo</td>\n",
       "      <td>2nwjevbvxzm7ehb254</td>\n",
       "      <td>https://www.avios.com/manage-avios/move-and-co...</td>\n",
       "      <td>2025-01-21T11:00:36.207Z</td>\n",
       "      <td>link</td>\n",
       "      <td>Convert Avios: Nectar &amp;#44;  Finnair Plus &amp;#44...</td>\n",
       "      <td>160210</td>\n",
       "      <td>0</td>\n",
       "      <td>2025-01-21T03:00:36-08:00</td>\n",
       "    </tr>\n",
       "  </tbody>\n",
       "</table>\n",
       "</div>"
      ],
      "text/plain": [
       "               OrgId ParticipantId            DeviceId  \\\n",
       "5101  py_demo_client          demo  2nwjevbvxzm7ehb254   \n",
       "5102  py_demo_client          demo  2nwjevbvxzm7ehb254   \n",
       "5103  py_demo_client          demo  2nwjevbvxzm7ehb254   \n",
       "\n",
       "                                                    url  \\\n",
       "5101  https://www.avios.com/manage-avios/move-and-co...   \n",
       "5102  https://www.avios.com/manage-avios/move-and-co...   \n",
       "5103  https://www.avios.com/manage-avios/move-and-co...   \n",
       "\n",
       "                  eventtimeutc transition  \\\n",
       "5101  2025-01-21T11:00:37.059Z       link   \n",
       "5102  2025-01-21T11:00:35.229Z      typed   \n",
       "5103  2025-01-21T11:00:36.207Z       link   \n",
       "\n",
       "                                                  title  visitId  \\\n",
       "5101  Convert Avios: Nectar &#44;  Finnair Plus &#44...   160211   \n",
       "5102  Convert Avios: Nectar &#44;  Finnair Plus &#44...   160209   \n",
       "5103  Convert Avios: Nectar &#44;  Finnair Plus &#44...   160210   \n",
       "\n",
       "      referringVisitId                  eventtime  \n",
       "5101                 0  2025-01-21T03:00:37-08:00  \n",
       "5102                 0  2025-01-21T03:00:35-08:00  \n",
       "5103                 0  2025-01-21T03:00:36-08:00  "
      ]
     },
     "execution_count": 213,
     "metadata": {},
     "output_type": "execute_result"
    }
   ],
   "source": [
    "# last few rows\n",
    "df.tail(3)"
   ]
  },
  {
   "cell_type": "code",
   "execution_count": 214,
   "id": "4c7b4e0a",
   "metadata": {},
   "outputs": [
    {
     "name": "stdout",
     "output_type": "stream",
     "text": [
      "<class 'pandas.core.frame.DataFrame'>\n",
      "RangeIndex: 5104 entries, 0 to 5103\n",
      "Data columns (total 10 columns):\n",
      " #   Column            Non-Null Count  Dtype \n",
      "---  ------            --------------  ----- \n",
      " 0   OrgId             5104 non-null   object\n",
      " 1   ParticipantId     5104 non-null   object\n",
      " 2   DeviceId          5104 non-null   object\n",
      " 3   url               5104 non-null   object\n",
      " 4   eventtimeutc      5104 non-null   object\n",
      " 5   transition        5104 non-null   object\n",
      " 6   title             5051 non-null   object\n",
      " 7   visitId           5104 non-null   int64 \n",
      " 8   referringVisitId  5104 non-null   int64 \n",
      " 9   eventtime         5104 non-null   object\n",
      "dtypes: int64(2), object(8)\n",
      "memory usage: 398.9+ KB\n"
     ]
    }
   ],
   "source": [
    "# data description\n",
    "df.info()"
   ]
  },
  {
   "cell_type": "code",
   "execution_count": 215,
   "id": "ffc24cbf",
   "metadata": {},
   "outputs": [
    {
     "data": {
      "text/plain": [
       "False"
      ]
     },
     "execution_count": 215,
     "metadata": {},
     "output_type": "execute_result"
    }
   ],
   "source": [
    "# checking for duplicate entries\n",
    "df.duplicated().any()"
   ]
  },
  {
   "cell_type": "code",
   "execution_count": 216,
   "id": "b81c4739",
   "metadata": {},
   "outputs": [
    {
     "data": {
      "text/plain": [
       "OrgId                0\n",
       "ParticipantId        0\n",
       "DeviceId             0\n",
       "url                  0\n",
       "eventtimeutc         0\n",
       "transition           0\n",
       "title               53\n",
       "visitId              0\n",
       "referringVisitId     0\n",
       "eventtime            0\n",
       "dtype: int64"
      ]
     },
     "execution_count": 216,
     "metadata": {},
     "output_type": "execute_result"
    }
   ],
   "source": [
    "# checking for null values\n",
    "df.isnull().sum()"
   ]
  },
  {
   "cell_type": "code",
   "execution_count": 217,
   "id": "c435a042",
   "metadata": {},
   "outputs": [],
   "source": [
    "# dropping the null values\n",
    "df = df.dropna()"
   ]
  },
  {
   "cell_type": "code",
   "execution_count": 218,
   "id": "4c0ef097",
   "metadata": {},
   "outputs": [
    {
     "name": "stdout",
     "output_type": "stream",
     "text": [
      "<class 'pandas.core.frame.DataFrame'>\n",
      "Index: 5051 entries, 1 to 5103\n",
      "Data columns (total 10 columns):\n",
      " #   Column            Non-Null Count  Dtype \n",
      "---  ------            --------------  ----- \n",
      " 0   OrgId             5051 non-null   object\n",
      " 1   ParticipantId     5051 non-null   object\n",
      " 2   DeviceId          5051 non-null   object\n",
      " 3   url               5051 non-null   object\n",
      " 4   eventtimeutc      5051 non-null   object\n",
      " 5   transition        5051 non-null   object\n",
      " 6   title             5051 non-null   object\n",
      " 7   visitId           5051 non-null   int64 \n",
      " 8   referringVisitId  5051 non-null   int64 \n",
      " 9   eventtime         5051 non-null   object\n",
      "dtypes: int64(2), object(8)\n",
      "memory usage: 434.1+ KB\n"
     ]
    }
   ],
   "source": [
    "# rechecking the data description\n",
    "df.info()"
   ]
  },
  {
   "cell_type": "code",
   "execution_count": 219,
   "id": "ec41dd62",
   "metadata": {},
   "outputs": [
    {
     "data": {
      "text/html": [
       "<div>\n",
       "<style scoped>\n",
       "    .dataframe tbody tr th:only-of-type {\n",
       "        vertical-align: middle;\n",
       "    }\n",
       "\n",
       "    .dataframe tbody tr th {\n",
       "        vertical-align: top;\n",
       "    }\n",
       "\n",
       "    .dataframe thead th {\n",
       "        text-align: right;\n",
       "    }\n",
       "</style>\n",
       "<table border=\"1\" class=\"dataframe\">\n",
       "  <thead>\n",
       "    <tr style=\"text-align: right;\">\n",
       "      <th></th>\n",
       "      <th>OrgId</th>\n",
       "      <th>ParticipantId</th>\n",
       "      <th>DeviceId</th>\n",
       "      <th>url</th>\n",
       "      <th>eventtimeutc</th>\n",
       "      <th>transition</th>\n",
       "      <th>title</th>\n",
       "      <th>visitId</th>\n",
       "      <th>referringVisitId</th>\n",
       "      <th>eventtime</th>\n",
       "    </tr>\n",
       "  </thead>\n",
       "  <tbody>\n",
       "    <tr>\n",
       "      <th>1</th>\n",
       "      <td>py_demo_client</td>\n",
       "      <td>demo</td>\n",
       "      <td>2nwjevbvxzm7ehb254</td>\n",
       "      <td>https://chromewebstore.google.com/detail/snaps...</td>\n",
       "      <td>2025-02-21T07:57:51.308Z</td>\n",
       "      <td>link</td>\n",
       "      <td>Snapshot - Chrome Web Store</td>\n",
       "      <td>166327</td>\n",
       "      <td>166326</td>\n",
       "      <td>2025-02-20T23:57:51-08:00</td>\n",
       "    </tr>\n",
       "    <tr>\n",
       "      <th>2</th>\n",
       "      <td>py_demo_client</td>\n",
       "      <td>demo</td>\n",
       "      <td>2nwjevbvxzm7ehb254</td>\n",
       "      <td>https://py-insights.com/account/demo/product?s...</td>\n",
       "      <td>2025-02-21T07:57:40.972Z</td>\n",
       "      <td>link</td>\n",
       "      <td>PY Insights | Product</td>\n",
       "      <td>166319</td>\n",
       "      <td>0</td>\n",
       "      <td>2025-02-20T23:57:40-08:00</td>\n",
       "    </tr>\n",
       "    <tr>\n",
       "      <th>3</th>\n",
       "      <td>py_demo_client</td>\n",
       "      <td>demo</td>\n",
       "      <td>2nwjevbvxzm7ehb254</td>\n",
       "      <td>https://py-insights.com/account/demo/product?s...</td>\n",
       "      <td>2025-02-21T07:57:40.988Z</td>\n",
       "      <td>link</td>\n",
       "      <td>PY Insights | Product</td>\n",
       "      <td>166321</td>\n",
       "      <td>0</td>\n",
       "      <td>2025-02-20T23:57:40-08:00</td>\n",
       "    </tr>\n",
       "  </tbody>\n",
       "</table>\n",
       "</div>"
      ],
      "text/plain": [
       "            OrgId ParticipantId            DeviceId  \\\n",
       "1  py_demo_client          demo  2nwjevbvxzm7ehb254   \n",
       "2  py_demo_client          demo  2nwjevbvxzm7ehb254   \n",
       "3  py_demo_client          demo  2nwjevbvxzm7ehb254   \n",
       "\n",
       "                                                 url  \\\n",
       "1  https://chromewebstore.google.com/detail/snaps...   \n",
       "2  https://py-insights.com/account/demo/product?s...   \n",
       "3  https://py-insights.com/account/demo/product?s...   \n",
       "\n",
       "               eventtimeutc transition                        title  visitId  \\\n",
       "1  2025-02-21T07:57:51.308Z       link  Snapshot - Chrome Web Store   166327   \n",
       "2  2025-02-21T07:57:40.972Z       link        PY Insights | Product   166319   \n",
       "3  2025-02-21T07:57:40.988Z       link        PY Insights | Product   166321   \n",
       "\n",
       "   referringVisitId                  eventtime  \n",
       "1            166326  2025-02-20T23:57:51-08:00  \n",
       "2                 0  2025-02-20T23:57:40-08:00  \n",
       "3                 0  2025-02-20T23:57:40-08:00  "
      ]
     },
     "execution_count": 219,
     "metadata": {},
     "output_type": "execute_result"
    }
   ],
   "source": [
    "df.head(3)"
   ]
  },
  {
   "cell_type": "code",
   "execution_count": 220,
   "id": "4aa1277d",
   "metadata": {},
   "outputs": [],
   "source": [
    "# function for showing unique entries in columns\n",
    "def show_unique(*col_name):\n",
    "    for i in col_name:\n",
    "        print(f\"{i} --> Number of unique entries = {len(df[i].unique())}\")"
   ]
  },
  {
   "cell_type": "code",
   "execution_count": 221,
   "id": "fbb811ae",
   "metadata": {},
   "outputs": [
    {
     "name": "stdout",
     "output_type": "stream",
     "text": [
      "OrgId --> Number of unique entries = 1\n",
      "ParticipantId --> Number of unique entries = 1\n",
      "DeviceId --> Number of unique entries = 1\n",
      "url --> Number of unique entries = 2740\n",
      "eventtimeutc --> Number of unique entries = 5006\n",
      "transition --> Number of unique entries = 8\n",
      "referringVisitId --> Number of unique entries = 1558\n",
      "eventtime --> Number of unique entries = 4209\n"
     ]
    }
   ],
   "source": [
    "# applying show_unique function to the following columns\n",
    "show_unique(\"OrgId\", 'ParticipantId', \"DeviceId\", \"url\", \"eventtimeutc\",'transition', \"referringVisitId\", \"eventtime\" )"
   ]
  },
  {
   "cell_type": "code",
   "execution_count": 222,
   "id": "0cbbde26",
   "metadata": {},
   "outputs": [],
   "source": [
    "# dropping the following columns which are not contributing to the analysis\n",
    "df.drop(columns=[\"OrgId\", 'ParticipantId', \"DeviceId\", \"eventtime\"], inplace = True)"
   ]
  },
  {
   "cell_type": "code",
   "execution_count": 223,
   "id": "15a5e166",
   "metadata": {},
   "outputs": [
    {
     "data": {
      "text/html": [
       "<div>\n",
       "<style scoped>\n",
       "    .dataframe tbody tr th:only-of-type {\n",
       "        vertical-align: middle;\n",
       "    }\n",
       "\n",
       "    .dataframe tbody tr th {\n",
       "        vertical-align: top;\n",
       "    }\n",
       "\n",
       "    .dataframe thead th {\n",
       "        text-align: right;\n",
       "    }\n",
       "</style>\n",
       "<table border=\"1\" class=\"dataframe\">\n",
       "  <thead>\n",
       "    <tr style=\"text-align: right;\">\n",
       "      <th></th>\n",
       "      <th>url</th>\n",
       "      <th>eventtimeutc</th>\n",
       "      <th>transition</th>\n",
       "      <th>title</th>\n",
       "      <th>visitId</th>\n",
       "      <th>referringVisitId</th>\n",
       "    </tr>\n",
       "  </thead>\n",
       "  <tbody>\n",
       "    <tr>\n",
       "      <th>1</th>\n",
       "      <td>https://chromewebstore.google.com/detail/snaps...</td>\n",
       "      <td>2025-02-21T07:57:51.308Z</td>\n",
       "      <td>link</td>\n",
       "      <td>Snapshot - Chrome Web Store</td>\n",
       "      <td>166327</td>\n",
       "      <td>166326</td>\n",
       "    </tr>\n",
       "    <tr>\n",
       "      <th>2</th>\n",
       "      <td>https://py-insights.com/account/demo/product?s...</td>\n",
       "      <td>2025-02-21T07:57:40.972Z</td>\n",
       "      <td>link</td>\n",
       "      <td>PY Insights | Product</td>\n",
       "      <td>166319</td>\n",
       "      <td>0</td>\n",
       "    </tr>\n",
       "    <tr>\n",
       "      <th>3</th>\n",
       "      <td>https://py-insights.com/account/demo/product?s...</td>\n",
       "      <td>2025-02-21T07:57:40.988Z</td>\n",
       "      <td>link</td>\n",
       "      <td>PY Insights | Product</td>\n",
       "      <td>166321</td>\n",
       "      <td>0</td>\n",
       "    </tr>\n",
       "  </tbody>\n",
       "</table>\n",
       "</div>"
      ],
      "text/plain": [
       "                                                 url  \\\n",
       "1  https://chromewebstore.google.com/detail/snaps...   \n",
       "2  https://py-insights.com/account/demo/product?s...   \n",
       "3  https://py-insights.com/account/demo/product?s...   \n",
       "\n",
       "               eventtimeutc transition                        title  visitId  \\\n",
       "1  2025-02-21T07:57:51.308Z       link  Snapshot - Chrome Web Store   166327   \n",
       "2  2025-02-21T07:57:40.972Z       link        PY Insights | Product   166319   \n",
       "3  2025-02-21T07:57:40.988Z       link        PY Insights | Product   166321   \n",
       "\n",
       "   referringVisitId  \n",
       "1            166326  \n",
       "2                 0  \n",
       "3                 0  "
      ]
     },
     "execution_count": 223,
     "metadata": {},
     "output_type": "execute_result"
    }
   ],
   "source": [
    "df.head(3)"
   ]
  },
  {
   "cell_type": "code",
   "execution_count": 224,
   "id": "757c58a8",
   "metadata": {},
   "outputs": [],
   "source": [
    "# extracting the domain names from the url given and making a new feature(column)\n",
    "df[\"domain\"] = df[\"url\"].str.extract(r\"https?://(?:www\\.)?([^/]+)\") "
   ]
  },
  {
   "cell_type": "code",
   "execution_count": 225,
   "id": "6812ae97",
   "metadata": {},
   "outputs": [
    {
     "data": {
      "text/html": [
       "<div>\n",
       "<style scoped>\n",
       "    .dataframe tbody tr th:only-of-type {\n",
       "        vertical-align: middle;\n",
       "    }\n",
       "\n",
       "    .dataframe tbody tr th {\n",
       "        vertical-align: top;\n",
       "    }\n",
       "\n",
       "    .dataframe thead th {\n",
       "        text-align: right;\n",
       "    }\n",
       "</style>\n",
       "<table border=\"1\" class=\"dataframe\">\n",
       "  <thead>\n",
       "    <tr style=\"text-align: right;\">\n",
       "      <th></th>\n",
       "      <th>url</th>\n",
       "      <th>eventtimeutc</th>\n",
       "      <th>transition</th>\n",
       "      <th>title</th>\n",
       "      <th>visitId</th>\n",
       "      <th>referringVisitId</th>\n",
       "      <th>domain</th>\n",
       "    </tr>\n",
       "  </thead>\n",
       "  <tbody>\n",
       "    <tr>\n",
       "      <th>1</th>\n",
       "      <td>https://chromewebstore.google.com/detail/snaps...</td>\n",
       "      <td>2025-02-21T07:57:51.308Z</td>\n",
       "      <td>link</td>\n",
       "      <td>Snapshot - Chrome Web Store</td>\n",
       "      <td>166327</td>\n",
       "      <td>166326</td>\n",
       "      <td>chromewebstore.google.com</td>\n",
       "    </tr>\n",
       "    <tr>\n",
       "      <th>2</th>\n",
       "      <td>https://py-insights.com/account/demo/product?s...</td>\n",
       "      <td>2025-02-21T07:57:40.972Z</td>\n",
       "      <td>link</td>\n",
       "      <td>PY Insights | Product</td>\n",
       "      <td>166319</td>\n",
       "      <td>0</td>\n",
       "      <td>py-insights.com</td>\n",
       "    </tr>\n",
       "    <tr>\n",
       "      <th>3</th>\n",
       "      <td>https://py-insights.com/account/demo/product?s...</td>\n",
       "      <td>2025-02-21T07:57:40.988Z</td>\n",
       "      <td>link</td>\n",
       "      <td>PY Insights | Product</td>\n",
       "      <td>166321</td>\n",
       "      <td>0</td>\n",
       "      <td>py-insights.com</td>\n",
       "    </tr>\n",
       "  </tbody>\n",
       "</table>\n",
       "</div>"
      ],
      "text/plain": [
       "                                                 url  \\\n",
       "1  https://chromewebstore.google.com/detail/snaps...   \n",
       "2  https://py-insights.com/account/demo/product?s...   \n",
       "3  https://py-insights.com/account/demo/product?s...   \n",
       "\n",
       "               eventtimeutc transition                        title  visitId  \\\n",
       "1  2025-02-21T07:57:51.308Z       link  Snapshot - Chrome Web Store   166327   \n",
       "2  2025-02-21T07:57:40.972Z       link        PY Insights | Product   166319   \n",
       "3  2025-02-21T07:57:40.988Z       link        PY Insights | Product   166321   \n",
       "\n",
       "   referringVisitId                     domain  \n",
       "1            166326  chromewebstore.google.com  \n",
       "2                 0            py-insights.com  \n",
       "3                 0            py-insights.com  "
      ]
     },
     "execution_count": 225,
     "metadata": {},
     "output_type": "execute_result"
    }
   ],
   "source": [
    "df.head(3)"
   ]
  },
  {
   "cell_type": "code",
   "execution_count": 226,
   "id": "6733acc3",
   "metadata": {},
   "outputs": [],
   "source": [
    "# converting event time UTC STRING to pandas date-time format for efficient operation\n",
    "df[\"eventtimeutc\"] = pd.to_datetime(df[\"eventtimeutc\"], utc=True)"
   ]
  },
  {
   "cell_type": "code",
   "execution_count": 227,
   "id": "9a825303",
   "metadata": {},
   "outputs": [],
   "source": [
    "# extracting the individual features: hour, day, date # deriving a new feature as weekend (saturday, and sunday)\n",
    "df[\"hour\"] = df[\"eventtimeutc\"].dt.hour\n",
    "df[\"day\"] = df[\"eventtimeutc\"].dt.day_name()\n",
    "df[\"date\"] = df[\"eventtimeutc\"].dt.date\n",
    "df[\"weekend\"] = df[\"day\"].isin([\"Saturday\", \"Sunday\"])"
   ]
  },
  {
   "cell_type": "code",
   "execution_count": 228,
   "id": "e8ab8184",
   "metadata": {},
   "outputs": [],
   "source": [
    "# dropping the eventtimeUTC \n",
    "df.drop(columns=[\"eventtimeutc\", 'url'], inplace = True)"
   ]
  },
  {
   "cell_type": "code",
   "execution_count": 229,
   "id": "05f906ef",
   "metadata": {},
   "outputs": [
    {
     "data": {
      "text/html": [
       "<div>\n",
       "<style scoped>\n",
       "    .dataframe tbody tr th:only-of-type {\n",
       "        vertical-align: middle;\n",
       "    }\n",
       "\n",
       "    .dataframe tbody tr th {\n",
       "        vertical-align: top;\n",
       "    }\n",
       "\n",
       "    .dataframe thead th {\n",
       "        text-align: right;\n",
       "    }\n",
       "</style>\n",
       "<table border=\"1\" class=\"dataframe\">\n",
       "  <thead>\n",
       "    <tr style=\"text-align: right;\">\n",
       "      <th></th>\n",
       "      <th>transition</th>\n",
       "      <th>title</th>\n",
       "      <th>visitId</th>\n",
       "      <th>referringVisitId</th>\n",
       "      <th>domain</th>\n",
       "      <th>hour</th>\n",
       "      <th>day</th>\n",
       "      <th>date</th>\n",
       "      <th>weekend</th>\n",
       "    </tr>\n",
       "  </thead>\n",
       "  <tbody>\n",
       "    <tr>\n",
       "      <th>1</th>\n",
       "      <td>link</td>\n",
       "      <td>Snapshot - Chrome Web Store</td>\n",
       "      <td>166327</td>\n",
       "      <td>166326</td>\n",
       "      <td>chromewebstore.google.com</td>\n",
       "      <td>7</td>\n",
       "      <td>Friday</td>\n",
       "      <td>2025-02-21</td>\n",
       "      <td>False</td>\n",
       "    </tr>\n",
       "    <tr>\n",
       "      <th>2</th>\n",
       "      <td>link</td>\n",
       "      <td>PY Insights | Product</td>\n",
       "      <td>166319</td>\n",
       "      <td>0</td>\n",
       "      <td>py-insights.com</td>\n",
       "      <td>7</td>\n",
       "      <td>Friday</td>\n",
       "      <td>2025-02-21</td>\n",
       "      <td>False</td>\n",
       "    </tr>\n",
       "    <tr>\n",
       "      <th>3</th>\n",
       "      <td>link</td>\n",
       "      <td>PY Insights | Product</td>\n",
       "      <td>166321</td>\n",
       "      <td>0</td>\n",
       "      <td>py-insights.com</td>\n",
       "      <td>7</td>\n",
       "      <td>Friday</td>\n",
       "      <td>2025-02-21</td>\n",
       "      <td>False</td>\n",
       "    </tr>\n",
       "  </tbody>\n",
       "</table>\n",
       "</div>"
      ],
      "text/plain": [
       "  transition                        title  visitId  referringVisitId  \\\n",
       "1       link  Snapshot - Chrome Web Store   166327            166326   \n",
       "2       link        PY Insights | Product   166319                 0   \n",
       "3       link        PY Insights | Product   166321                 0   \n",
       "\n",
       "                      domain  hour     day        date  weekend  \n",
       "1  chromewebstore.google.com     7  Friday  2025-02-21    False  \n",
       "2            py-insights.com     7  Friday  2025-02-21    False  \n",
       "3            py-insights.com     7  Friday  2025-02-21    False  "
      ]
     },
     "execution_count": 229,
     "metadata": {},
     "output_type": "execute_result"
    }
   ],
   "source": [
    "df.head(3)"
   ]
  },
  {
   "cell_type": "code",
   "execution_count": 230,
   "id": "ea1f6a13",
   "metadata": {},
   "outputs": [
    {
     "name": "stdout",
     "output_type": "stream",
     "text": [
      "[0, 1, 2, 3, 4, 5, 6, 7, 8, 9, 10, 11, 12, 13, 14, 15, 16, 17, 18, 19, 20, 21, 22, 23]\n"
     ]
    }
   ],
   "source": [
    "print(sorted(df['hour'].unique()))"
   ]
  },
  {
   "cell_type": "code",
   "execution_count": 231,
   "id": "1917e121",
   "metadata": {},
   "outputs": [],
   "source": [
    "# a function for getting the session from hour feature: morning, afternoon, evening and night\n",
    "def get_sessions(hour):\n",
    "    if 5 <= hour < 12:\n",
    "        return \"morning\"\n",
    "    elif 12 <= hour < 17:\n",
    "        return \"afternoon\"\n",
    "    elif 17 <= hour < 21:\n",
    "        return 'evening'\n",
    "    else:\n",
    "        return 'night'"
   ]
  },
  {
   "cell_type": "code",
   "execution_count": 232,
   "id": "7b5b02b4",
   "metadata": {},
   "outputs": [],
   "source": [
    "# deriving a new feature 'session' from the hour column by applying the function: get_sessions\n",
    "df['session'] = df['hour'].apply(get_sessions)"
   ]
  },
  {
   "cell_type": "code",
   "execution_count": 233,
   "id": "25d51b07",
   "metadata": {},
   "outputs": [
    {
     "data": {
      "text/html": [
       "<div>\n",
       "<style scoped>\n",
       "    .dataframe tbody tr th:only-of-type {\n",
       "        vertical-align: middle;\n",
       "    }\n",
       "\n",
       "    .dataframe tbody tr th {\n",
       "        vertical-align: top;\n",
       "    }\n",
       "\n",
       "    .dataframe thead th {\n",
       "        text-align: right;\n",
       "    }\n",
       "</style>\n",
       "<table border=\"1\" class=\"dataframe\">\n",
       "  <thead>\n",
       "    <tr style=\"text-align: right;\">\n",
       "      <th></th>\n",
       "      <th>transition</th>\n",
       "      <th>title</th>\n",
       "      <th>visitId</th>\n",
       "      <th>referringVisitId</th>\n",
       "      <th>domain</th>\n",
       "      <th>hour</th>\n",
       "      <th>day</th>\n",
       "      <th>date</th>\n",
       "      <th>weekend</th>\n",
       "      <th>session</th>\n",
       "    </tr>\n",
       "  </thead>\n",
       "  <tbody>\n",
       "    <tr>\n",
       "      <th>1</th>\n",
       "      <td>link</td>\n",
       "      <td>Snapshot - Chrome Web Store</td>\n",
       "      <td>166327</td>\n",
       "      <td>166326</td>\n",
       "      <td>chromewebstore.google.com</td>\n",
       "      <td>7</td>\n",
       "      <td>Friday</td>\n",
       "      <td>2025-02-21</td>\n",
       "      <td>False</td>\n",
       "      <td>morning</td>\n",
       "    </tr>\n",
       "    <tr>\n",
       "      <th>2</th>\n",
       "      <td>link</td>\n",
       "      <td>PY Insights | Product</td>\n",
       "      <td>166319</td>\n",
       "      <td>0</td>\n",
       "      <td>py-insights.com</td>\n",
       "      <td>7</td>\n",
       "      <td>Friday</td>\n",
       "      <td>2025-02-21</td>\n",
       "      <td>False</td>\n",
       "      <td>morning</td>\n",
       "    </tr>\n",
       "    <tr>\n",
       "      <th>3</th>\n",
       "      <td>link</td>\n",
       "      <td>PY Insights | Product</td>\n",
       "      <td>166321</td>\n",
       "      <td>0</td>\n",
       "      <td>py-insights.com</td>\n",
       "      <td>7</td>\n",
       "      <td>Friday</td>\n",
       "      <td>2025-02-21</td>\n",
       "      <td>False</td>\n",
       "      <td>morning</td>\n",
       "    </tr>\n",
       "    <tr>\n",
       "      <th>4</th>\n",
       "      <td>link</td>\n",
       "      <td>PY Insights | Product</td>\n",
       "      <td>166318</td>\n",
       "      <td>0</td>\n",
       "      <td>py-insights.com</td>\n",
       "      <td>7</td>\n",
       "      <td>Friday</td>\n",
       "      <td>2025-02-21</td>\n",
       "      <td>False</td>\n",
       "      <td>morning</td>\n",
       "    </tr>\n",
       "    <tr>\n",
       "      <th>5</th>\n",
       "      <td>link</td>\n",
       "      <td>PY Insights | Product</td>\n",
       "      <td>166320</td>\n",
       "      <td>0</td>\n",
       "      <td>py-insights.com</td>\n",
       "      <td>7</td>\n",
       "      <td>Friday</td>\n",
       "      <td>2025-02-21</td>\n",
       "      <td>False</td>\n",
       "      <td>morning</td>\n",
       "    </tr>\n",
       "  </tbody>\n",
       "</table>\n",
       "</div>"
      ],
      "text/plain": [
       "  transition                        title  visitId  referringVisitId  \\\n",
       "1       link  Snapshot - Chrome Web Store   166327            166326   \n",
       "2       link        PY Insights | Product   166319                 0   \n",
       "3       link        PY Insights | Product   166321                 0   \n",
       "4       link        PY Insights | Product   166318                 0   \n",
       "5       link        PY Insights | Product   166320                 0   \n",
       "\n",
       "                      domain  hour     day        date  weekend  session  \n",
       "1  chromewebstore.google.com     7  Friday  2025-02-21    False  morning  \n",
       "2            py-insights.com     7  Friday  2025-02-21    False  morning  \n",
       "3            py-insights.com     7  Friday  2025-02-21    False  morning  \n",
       "4            py-insights.com     7  Friday  2025-02-21    False  morning  \n",
       "5            py-insights.com     7  Friday  2025-02-21    False  morning  "
      ]
     },
     "execution_count": 233,
     "metadata": {},
     "output_type": "execute_result"
    }
   ],
   "source": [
    "df.head()"
   ]
  },
  {
   "cell_type": "code",
   "execution_count": 234,
   "id": "8b57d152",
   "metadata": {},
   "outputs": [
    {
     "name": "stdout",
     "output_type": "stream",
     "text": [
      "data starts from: 2025-01-21\n",
      "Data ends at:    2025-02-21\n"
     ]
    }
   ],
   "source": [
    "# getting the date range of the given dataset\n",
    "start_date, end_date = df['date'].min(), df['date'].max()\n",
    "\n",
    "print(\"data starts from:\", start_date)\n",
    "print(\"Data ends at:   \", end_date)"
   ]
  },
  {
   "cell_type": "code",
   "execution_count": 235,
   "id": "8c710881",
   "metadata": {},
   "outputs": [
    {
     "data": {
      "text/html": [
       "<div>\n",
       "<style scoped>\n",
       "    .dataframe tbody tr th:only-of-type {\n",
       "        vertical-align: middle;\n",
       "    }\n",
       "\n",
       "    .dataframe tbody tr th {\n",
       "        vertical-align: top;\n",
       "    }\n",
       "\n",
       "    .dataframe thead th {\n",
       "        text-align: right;\n",
       "    }\n",
       "</style>\n",
       "<table border=\"1\" class=\"dataframe\">\n",
       "  <thead>\n",
       "    <tr style=\"text-align: right;\">\n",
       "      <th></th>\n",
       "      <th>transition</th>\n",
       "      <th>title</th>\n",
       "      <th>visitId</th>\n",
       "      <th>referringVisitId</th>\n",
       "      <th>domain</th>\n",
       "      <th>hour</th>\n",
       "      <th>day</th>\n",
       "      <th>date</th>\n",
       "      <th>weekend</th>\n",
       "      <th>session</th>\n",
       "    </tr>\n",
       "  </thead>\n",
       "  <tbody>\n",
       "    <tr>\n",
       "      <th>2297</th>\n",
       "      <td>generated</td>\n",
       "      <td>greek gods and goddesses names - Google Search</td>\n",
       "      <td>163864</td>\n",
       "      <td>0</td>\n",
       "      <td>google.com</td>\n",
       "      <td>22</td>\n",
       "      <td>Sunday</td>\n",
       "      <td>2025-02-09</td>\n",
       "      <td>True</td>\n",
       "      <td>night</td>\n",
       "    </tr>\n",
       "    <tr>\n",
       "      <th>1152</th>\n",
       "      <td>link</td>\n",
       "      <td>Messages</td>\n",
       "      <td>162254</td>\n",
       "      <td>162252</td>\n",
       "      <td>upwork.com</td>\n",
       "      <td>5</td>\n",
       "      <td>Thursday</td>\n",
       "      <td>2025-01-30</td>\n",
       "      <td>False</td>\n",
       "      <td>morning</td>\n",
       "    </tr>\n",
       "    <tr>\n",
       "      <th>221</th>\n",
       "      <td>link</td>\n",
       "      <td>17 adorable gifts for pets — and the people wh...</td>\n",
       "      <td>166092</td>\n",
       "      <td>166091</td>\n",
       "      <td>laist.com</td>\n",
       "      <td>19</td>\n",
       "      <td>Thursday</td>\n",
       "      <td>2025-02-20</td>\n",
       "      <td>False</td>\n",
       "      <td>evening</td>\n",
       "    </tr>\n",
       "    <tr>\n",
       "      <th>1069</th>\n",
       "      <td>form_submit</td>\n",
       "      <td>sleeper sofa queen - Google Search</td>\n",
       "      <td>165278</td>\n",
       "      <td>165279</td>\n",
       "      <td>google.com</td>\n",
       "      <td>4</td>\n",
       "      <td>Wednesday</td>\n",
       "      <td>2025-02-19</td>\n",
       "      <td>False</td>\n",
       "      <td>night</td>\n",
       "    </tr>\n",
       "    <tr>\n",
       "      <th>3128</th>\n",
       "      <td>link</td>\n",
       "      <td>Describe your task - book a task on TaskRabbit</td>\n",
       "      <td>162969</td>\n",
       "      <td>0</td>\n",
       "      <td>taskrabbit.com</td>\n",
       "      <td>17</td>\n",
       "      <td>Sunday</td>\n",
       "      <td>2025-02-02</td>\n",
       "      <td>True</td>\n",
       "      <td>evening</td>\n",
       "    </tr>\n",
       "  </tbody>\n",
       "</table>\n",
       "</div>"
      ],
      "text/plain": [
       "       transition                                              title  visitId  \\\n",
       "2297    generated     greek gods and goddesses names - Google Search   163864   \n",
       "1152         link                                           Messages   162254   \n",
       "221          link  17 adorable gifts for pets — and the people wh...   166092   \n",
       "1069  form_submit                 sleeper sofa queen - Google Search   165278   \n",
       "3128         link     Describe your task - book a task on TaskRabbit   162969   \n",
       "\n",
       "      referringVisitId          domain  hour        day        date  weekend  \\\n",
       "2297                 0      google.com    22     Sunday  2025-02-09     True   \n",
       "1152            162252      upwork.com     5   Thursday  2025-01-30    False   \n",
       "221             166091       laist.com    19   Thursday  2025-02-20    False   \n",
       "1069            165279      google.com     4  Wednesday  2025-02-19    False   \n",
       "3128                 0  taskrabbit.com    17     Sunday  2025-02-02     True   \n",
       "\n",
       "      session  \n",
       "2297    night  \n",
       "1152  morning  \n",
       "221   evening  \n",
       "1069    night  \n",
       "3128  evening  "
      ]
     },
     "execution_count": 235,
     "metadata": {},
     "output_type": "execute_result"
    }
   ],
   "source": [
    "df.sample(5)"
   ]
  },
  {
   "cell_type": "code",
   "execution_count": 236,
   "id": "cd1fe962",
   "metadata": {},
   "outputs": [],
   "source": [
    "#######\n",
    "######\n",
    "#######"
   ]
  },
  {
   "cell_type": "code",
   "execution_count": 237,
   "id": "7eca3bc5",
   "metadata": {},
   "outputs": [
    {
     "data": {
      "text/html": [
       "<div>\n",
       "<style scoped>\n",
       "    .dataframe tbody tr th:only-of-type {\n",
       "        vertical-align: middle;\n",
       "    }\n",
       "\n",
       "    .dataframe tbody tr th {\n",
       "        vertical-align: top;\n",
       "    }\n",
       "\n",
       "    .dataframe thead th {\n",
       "        text-align: right;\n",
       "    }\n",
       "</style>\n",
       "<table border=\"1\" class=\"dataframe\">\n",
       "  <thead>\n",
       "    <tr style=\"text-align: right;\">\n",
       "      <th></th>\n",
       "      <th>transition</th>\n",
       "      <th>title</th>\n",
       "      <th>visitId</th>\n",
       "      <th>referringVisitId</th>\n",
       "      <th>domain</th>\n",
       "      <th>hour</th>\n",
       "      <th>day</th>\n",
       "      <th>date</th>\n",
       "      <th>weekend</th>\n",
       "      <th>session</th>\n",
       "    </tr>\n",
       "  </thead>\n",
       "  <tbody>\n",
       "    <tr>\n",
       "      <th>1</th>\n",
       "      <td>link</td>\n",
       "      <td>Snapshot - Chrome Web Store</td>\n",
       "      <td>166327</td>\n",
       "      <td>166326</td>\n",
       "      <td>chromewebstore.google.com</td>\n",
       "      <td>7</td>\n",
       "      <td>Friday</td>\n",
       "      <td>2025-02-21</td>\n",
       "      <td>False</td>\n",
       "      <td>morning</td>\n",
       "    </tr>\n",
       "    <tr>\n",
       "      <th>2</th>\n",
       "      <td>link</td>\n",
       "      <td>PY Insights | Product</td>\n",
       "      <td>166319</td>\n",
       "      <td>0</td>\n",
       "      <td>py-insights.com</td>\n",
       "      <td>7</td>\n",
       "      <td>Friday</td>\n",
       "      <td>2025-02-21</td>\n",
       "      <td>False</td>\n",
       "      <td>morning</td>\n",
       "    </tr>\n",
       "    <tr>\n",
       "      <th>3</th>\n",
       "      <td>link</td>\n",
       "      <td>PY Insights | Product</td>\n",
       "      <td>166321</td>\n",
       "      <td>0</td>\n",
       "      <td>py-insights.com</td>\n",
       "      <td>7</td>\n",
       "      <td>Friday</td>\n",
       "      <td>2025-02-21</td>\n",
       "      <td>False</td>\n",
       "      <td>morning</td>\n",
       "    </tr>\n",
       "    <tr>\n",
       "      <th>4</th>\n",
       "      <td>link</td>\n",
       "      <td>PY Insights | Product</td>\n",
       "      <td>166318</td>\n",
       "      <td>0</td>\n",
       "      <td>py-insights.com</td>\n",
       "      <td>7</td>\n",
       "      <td>Friday</td>\n",
       "      <td>2025-02-21</td>\n",
       "      <td>False</td>\n",
       "      <td>morning</td>\n",
       "    </tr>\n",
       "    <tr>\n",
       "      <th>5</th>\n",
       "      <td>link</td>\n",
       "      <td>PY Insights | Product</td>\n",
       "      <td>166320</td>\n",
       "      <td>0</td>\n",
       "      <td>py-insights.com</td>\n",
       "      <td>7</td>\n",
       "      <td>Friday</td>\n",
       "      <td>2025-02-21</td>\n",
       "      <td>False</td>\n",
       "      <td>morning</td>\n",
       "    </tr>\n",
       "  </tbody>\n",
       "</table>\n",
       "</div>"
      ],
      "text/plain": [
       "  transition                        title  visitId  referringVisitId  \\\n",
       "1       link  Snapshot - Chrome Web Store   166327            166326   \n",
       "2       link        PY Insights | Product   166319                 0   \n",
       "3       link        PY Insights | Product   166321                 0   \n",
       "4       link        PY Insights | Product   166318                 0   \n",
       "5       link        PY Insights | Product   166320                 0   \n",
       "\n",
       "                      domain  hour     day        date  weekend  session  \n",
       "1  chromewebstore.google.com     7  Friday  2025-02-21    False  morning  \n",
       "2            py-insights.com     7  Friday  2025-02-21    False  morning  \n",
       "3            py-insights.com     7  Friday  2025-02-21    False  morning  \n",
       "4            py-insights.com     7  Friday  2025-02-21    False  morning  \n",
       "5            py-insights.com     7  Friday  2025-02-21    False  morning  "
      ]
     },
     "execution_count": 237,
     "metadata": {},
     "output_type": "execute_result"
    }
   ],
   "source": [
    "df.head()"
   ]
  },
  {
   "cell_type": "code",
   "execution_count": 238,
   "id": "e988ffe4",
   "metadata": {},
   "outputs": [],
   "source": [
    "# saving a copy of the cleaned data\n",
    "# df.to_csv(\"C:/Users/Ashutosh19/Desktop/UPDATED_NEW_py_demo_client_extension_30_20250221075805.csv\", index = False)"
   ]
  },
  {
   "cell_type": "code",
   "execution_count": 239,
   "id": "c0615deb",
   "metadata": {},
   "outputs": [],
   "source": [
    "# rearranging the columns names\n",
    "df = df[[\"visitId\", \"title\", \"domain\", \"transition\",  \"referringVisitId\", \"day\", \"date\",  \"hour\", \"session\", \"weekend\"]]"
   ]
  },
  {
   "cell_type": "code",
   "execution_count": 240,
   "id": "6101f9b9",
   "metadata": {},
   "outputs": [
    {
     "data": {
      "text/html": [
       "<div>\n",
       "<style scoped>\n",
       "    .dataframe tbody tr th:only-of-type {\n",
       "        vertical-align: middle;\n",
       "    }\n",
       "\n",
       "    .dataframe tbody tr th {\n",
       "        vertical-align: top;\n",
       "    }\n",
       "\n",
       "    .dataframe thead th {\n",
       "        text-align: right;\n",
       "    }\n",
       "</style>\n",
       "<table border=\"1\" class=\"dataframe\">\n",
       "  <thead>\n",
       "    <tr style=\"text-align: right;\">\n",
       "      <th></th>\n",
       "      <th>visitId</th>\n",
       "      <th>title</th>\n",
       "      <th>domain</th>\n",
       "      <th>transition</th>\n",
       "      <th>referringVisitId</th>\n",
       "      <th>day</th>\n",
       "      <th>date</th>\n",
       "      <th>hour</th>\n",
       "      <th>session</th>\n",
       "      <th>weekend</th>\n",
       "    </tr>\n",
       "  </thead>\n",
       "  <tbody>\n",
       "    <tr>\n",
       "      <th>1</th>\n",
       "      <td>166327</td>\n",
       "      <td>Snapshot - Chrome Web Store</td>\n",
       "      <td>chromewebstore.google.com</td>\n",
       "      <td>link</td>\n",
       "      <td>166326</td>\n",
       "      <td>Friday</td>\n",
       "      <td>2025-02-21</td>\n",
       "      <td>7</td>\n",
       "      <td>morning</td>\n",
       "      <td>False</td>\n",
       "    </tr>\n",
       "    <tr>\n",
       "      <th>2</th>\n",
       "      <td>166319</td>\n",
       "      <td>PY Insights | Product</td>\n",
       "      <td>py-insights.com</td>\n",
       "      <td>link</td>\n",
       "      <td>0</td>\n",
       "      <td>Friday</td>\n",
       "      <td>2025-02-21</td>\n",
       "      <td>7</td>\n",
       "      <td>morning</td>\n",
       "      <td>False</td>\n",
       "    </tr>\n",
       "    <tr>\n",
       "      <th>3</th>\n",
       "      <td>166321</td>\n",
       "      <td>PY Insights | Product</td>\n",
       "      <td>py-insights.com</td>\n",
       "      <td>link</td>\n",
       "      <td>0</td>\n",
       "      <td>Friday</td>\n",
       "      <td>2025-02-21</td>\n",
       "      <td>7</td>\n",
       "      <td>morning</td>\n",
       "      <td>False</td>\n",
       "    </tr>\n",
       "    <tr>\n",
       "      <th>4</th>\n",
       "      <td>166318</td>\n",
       "      <td>PY Insights | Product</td>\n",
       "      <td>py-insights.com</td>\n",
       "      <td>link</td>\n",
       "      <td>0</td>\n",
       "      <td>Friday</td>\n",
       "      <td>2025-02-21</td>\n",
       "      <td>7</td>\n",
       "      <td>morning</td>\n",
       "      <td>False</td>\n",
       "    </tr>\n",
       "    <tr>\n",
       "      <th>5</th>\n",
       "      <td>166320</td>\n",
       "      <td>PY Insights | Product</td>\n",
       "      <td>py-insights.com</td>\n",
       "      <td>link</td>\n",
       "      <td>0</td>\n",
       "      <td>Friday</td>\n",
       "      <td>2025-02-21</td>\n",
       "      <td>7</td>\n",
       "      <td>morning</td>\n",
       "      <td>False</td>\n",
       "    </tr>\n",
       "    <tr>\n",
       "      <th>6</th>\n",
       "      <td>166316</td>\n",
       "      <td>Manage Meeting</td>\n",
       "      <td>cs-rtl.my.salesforce-sites.com</td>\n",
       "      <td>link</td>\n",
       "      <td>166317</td>\n",
       "      <td>Friday</td>\n",
       "      <td>2025-02-21</td>\n",
       "      <td>7</td>\n",
       "      <td>morning</td>\n",
       "      <td>False</td>\n",
       "    </tr>\n",
       "  </tbody>\n",
       "</table>\n",
       "</div>"
      ],
      "text/plain": [
       "   visitId                        title                          domain  \\\n",
       "1   166327  Snapshot - Chrome Web Store       chromewebstore.google.com   \n",
       "2   166319        PY Insights | Product                 py-insights.com   \n",
       "3   166321        PY Insights | Product                 py-insights.com   \n",
       "4   166318        PY Insights | Product                 py-insights.com   \n",
       "5   166320        PY Insights | Product                 py-insights.com   \n",
       "6   166316               Manage Meeting  cs-rtl.my.salesforce-sites.com   \n",
       "\n",
       "  transition  referringVisitId     day        date  hour  session  weekend  \n",
       "1       link            166326  Friday  2025-02-21     7  morning    False  \n",
       "2       link                 0  Friday  2025-02-21     7  morning    False  \n",
       "3       link                 0  Friday  2025-02-21     7  morning    False  \n",
       "4       link                 0  Friday  2025-02-21     7  morning    False  \n",
       "5       link                 0  Friday  2025-02-21     7  morning    False  \n",
       "6       link            166317  Friday  2025-02-21     7  morning    False  "
      ]
     },
     "execution_count": 240,
     "metadata": {},
     "output_type": "execute_result"
    }
   ],
   "source": [
    "df.head(6)"
   ]
  },
  {
   "cell_type": "code",
   "execution_count": 241,
   "id": "39a4b753",
   "metadata": {},
   "outputs": [],
   "source": [
    "#########\n",
    "#########"
   ]
  },
  {
   "cell_type": "code",
   "execution_count": 242,
   "id": "b005b12e",
   "metadata": {},
   "outputs": [],
   "source": [
    "## starting the visualization part"
   ]
  },
  {
   "cell_type": "code",
   "execution_count": 243,
   "id": "9d47bbe6",
   "metadata": {},
   "outputs": [],
   "source": [
    "# 1. Trend over time: Visits per day\n",
    "# how many times each unique date appears, that frequenxy is sorted according to the date\n",
    "visits_per_day = df['date'].value_counts().sort_index()"
   ]
  },
  {
   "cell_type": "code",
   "execution_count": 244,
   "id": "46990772",
   "metadata": {},
   "outputs": [
    {
     "data": {
      "image/png": "[encoded data removed]",
      "text/plain": [
       "<Figure size 1080x432 with 1 Axes>"
      ]
     },
     "metadata": {
      "needs_background": "light"
     },
     "output_type": "display_data"
    }
   ],
   "source": [
    "# plot 1: Trend over time: browsing activity over the period of the all days\n",
    "plt.figure(figsize=(15, 6))\n",
    "plt.plot(visits_per_day.index, visits_per_day.values, marker='o', linewidth=2.5)\n",
    "plt.title(\"Visits over time\", color='black', size=18)\n",
    "plt.xlabel(\"Date\", color='black', size=14)\n",
    "plt.ylabel(\"Number of visits\",  color='black', size=14)\n",
    "plt.savefig(\"C:/Users/Ashutosh19/Desktop/plt1.jpg\")\n",
    "plt.show()"
   ]
  },
  {
   "cell_type": "code",
   "execution_count": null,
   "id": "99c18bf6",
   "metadata": {},
   "outputs": [],
   "source": []
  },
  {
   "cell_type": "code",
   "execution_count": 245,
   "id": "3eb0db7f",
   "metadata": {},
   "outputs": [],
   "source": [
    "# 2. activity by hour: it analyzes what hours of the day the browsing activity occurred. \n",
    "visits_by_hour = df['hour'].value_counts().sort_index()\n",
    "# how many times each unique hour is appearing, that frequency is sorted according to the hours index"
   ]
  },
  {
   "cell_type": "code",
   "execution_count": 257,
   "id": "b01d6b5b",
   "metadata": {},
   "outputs": [
    {
     "data": {
      "image/png": "[encoded data removed]",
      "text/plain": [
       "<Figure size 1080x504 with 1 Axes>"
      ]
     },
     "metadata": {
      "needs_background": "light"
     },
     "output_type": "display_data"
    }
   ],
   "source": [
    "# Plot 2: activity by hour: brwosing pattern over the 24 hours\n",
    "plt.figure(figsize=(15, 7))\n",
    "sns.barplot(x=visits_by_hour.index, y=visits_by_hour.values,palette=\"viridis\")\n",
    "plt.title(\"Activity by hour\", color='black', size=18)\n",
    "plt.xlabel(\"Hour of day\", color='black', size=14)\n",
    "plt.ylabel(\"Number of visits\", color='black', size=14)\n",
    "plt.savefig(\"C:/Users/Ashutosh19/Desktop/plt2.jpg\")\n",
    "plt.show()"
   ]
  },
  {
   "cell_type": "code",
   "execution_count": null,
   "id": "e014ae5f",
   "metadata": {},
   "outputs": [],
   "source": []
  },
  {
   "cell_type": "code",
   "execution_count": 247,
   "id": "ab92dae5",
   "metadata": {},
   "outputs": [],
   "source": [
    "# 3. Session category distribution\n",
    "session_category_counts = df['session'].value_counts()"
   ]
  },
  {
   "cell_type": "code",
   "execution_count": 258,
   "id": "d84649e9",
   "metadata": {},
   "outputs": [
    {
     "data": {
      "image/png": "[encoded data removed]",
      "text/plain": [
       "<Figure size 1080x576 with 1 Axes>"
      ]
     },
     "metadata": {},
     "output_type": "display_data"
    }
   ],
   "source": [
    "# plot 3: session category proportion: browsing distribution of the 4 different sessions of a day\n",
    "plt.figure(figsize=(15, 8))\n",
    "plt.pie(session_category_counts, labels=session_category_counts.index, \n",
    "        textprops={'fontsize':14}, autopct='%.2f%%', colors=sns.color_palette('Set2'))\n",
    "plt.title(\"Session category distribution\", color='black', size=18)\n",
    "plt.savefig(\"C:/Users/Ashutosh19/Desktop/plt3.jpg\")\n",
    "plt.show()"
   ]
  },
  {
   "cell_type": "code",
   "execution_count": null,
   "id": "e08f136a",
   "metadata": {},
   "outputs": [],
   "source": []
  },
  {
   "cell_type": "code",
   "execution_count": 249,
   "id": "49713c08",
   "metadata": {},
   "outputs": [],
   "source": [
    "# 4. Most visited websites\n",
    "top_10_domains = df['domain'].value_counts().head(10)"
   ]
  },
  {
   "cell_type": "code",
   "execution_count": 250,
   "id": "69659cee",
   "metadata": {},
   "outputs": [
    {
     "data": {
      "image/png": "[encoded data removed]",
      "text/plain": [
       "<Figure size 864x504 with 1 Axes>"
      ]
     },
     "metadata": {
      "needs_background": "light"
     },
     "output_type": "display_data"
    }
   ],
   "source": [
    "# plot 4: most visited domains: top 10 most visited websites\n",
    "plt.figure(figsize=(12, 7))\n",
    "sns.barplot(x=top_10_domains.values, y=top_10_domains.index, palette=\"crest\") #palette=\"magma\"\n",
    "plt.title(\"Top 10 most visited domains\", color='black', size=18)\n",
    "plt.xlabel(\"Number of visits\", color='black', size=18)\n",
    "plt.ylabel(\"Domain\", color='black', size=18)\n",
    "plt.savefig(\"C:/Users/Ashutosh19/Desktop/plt4.jpg\", )\n",
    "plt.show()"
   ]
  },
  {
   "cell_type": "code",
   "execution_count": null,
   "id": "8352ec14",
   "metadata": {},
   "outputs": [],
   "source": []
  },
  {
   "cell_type": "code",
   "execution_count": 251,
   "id": "47e1caaf",
   "metadata": {},
   "outputs": [],
   "source": [
    "# 5. Page transition types\n",
    "transition_counts = df['transition'].value_counts()"
   ]
  },
  {
   "cell_type": "code",
   "execution_count": 252,
   "id": "8fda6340",
   "metadata": {},
   "outputs": [
    {
     "data": {
      "image/png": "[encoded data removed]",
      "text/plain": [
       "<Figure size 1008x432 with 1 Axes>"
      ]
     },
     "metadata": {
      "needs_background": "light"
     },
     "output_type": "display_data"
    }
   ],
   "source": [
    "# plot 5: page transition types\n",
    "plt.figure(figsize=(14, 6))\n",
    "sns.barplot(x=transition_counts.index, y=transition_counts.values,palette=\"pastel\")\n",
    "plt.title(\"Page transition types\", color='black', size=18)\n",
    "plt.xlabel(\"Transition type\", color='black', size=14)\n",
    "plt.ylabel(\"Count\", color='black', size=14)\n",
    "plt.savefig(\"C:/Users/Ashutosh19/Desktop/plt5.jpg\", )\n",
    "plt.show()"
   ]
  },
  {
   "cell_type": "code",
   "execution_count": null,
   "id": "103efbe6",
   "metadata": {},
   "outputs": [],
   "source": []
  },
  {
   "cell_type": "code",
   "execution_count": 253,
   "id": "0e5203fd",
   "metadata": {},
   "outputs": [],
   "source": [
    "# 6. activity by day of Week\n",
    "day_of_week_counts = df['day'].value_counts()"
   ]
  },
  {
   "cell_type": "code",
   "execution_count": 254,
   "id": "8398a437",
   "metadata": {},
   "outputs": [
    {
     "data": {
      "image/png": "[encoded data removed]",
      "text/plain": [
       "<Figure size 1008x432 with 1 Axes>"
      ]
     },
     "metadata": {
      "needs_background": "light"
     },
     "output_type": "display_data"
    }
   ],
   "source": [
    "# plot 6: activity by day of Week: browsing activity (number of visits) w.r.t the days of week\n",
    "plt.figure(figsize=(14, 6))\n",
    "sns.barplot(x=day_of_week_counts.index, y=day_of_week_counts.values, palette=\"Oranges\")\n",
    "plt.title(\"Activity by day in the week\",  color='black', size=18)\n",
    "plt.xlabel(\"Day\", color='black', size=14)\n",
    "plt.ylabel(\"Number of Visits\", color='black', size=14)\n",
    "plt.savefig(\"C:/Users/Ashutosh19/Desktop/plt6.jpg\")\n",
    "plt.show()"
   ]
  },
  {
   "cell_type": "code",
   "execution_count": null,
   "id": "049bac2c",
   "metadata": {},
   "outputs": [],
   "source": []
  },
  {
   "cell_type": "code",
   "execution_count": 255,
   "id": "76d663a2",
   "metadata": {},
   "outputs": [],
   "source": [
    "# 7. Weekend vs Weekday visits\n",
    "weekend_counts = df['weekend'].value_counts().rename({True: 'Weekend', False: 'Weekday'})"
   ]
  },
  {
   "cell_type": "code",
   "execution_count": 256,
   "id": "251d23e7",
   "metadata": {},
   "outputs": [
    {
     "data": {
      "image/png": "[encoded data removed]",
      "text/plain": [
       "<Figure size 1008x576 with 1 Axes>"
      ]
     },
     "metadata": {},
     "output_type": "display_data"
    }
   ],
   "source": [
    "# plot 7: Weekend vs Weekday visits percentage\n",
    "plt.figure(figsize=(14, 8))\n",
    "weekend_counts.plot(kind='pie', autopct='%.2f%%', fontsize = 14, colors=sns.color_palette('Set2'))\n",
    "plt.title(\"Visits: Weekend vs Weekday\",  color='black', size=18)\n",
    "plt.savefig(\"C:/Users/Ashutosh19/Desktop/plt7.jpg\")\n",
    "plt.show()"
   ]
  },
  {
   "cell_type": "code",
   "execution_count": null,
   "id": "c4563970",
   "metadata": {},
   "outputs": [],
   "source": []
  },
  {
   "cell_type": "code",
   "execution_count": null,
   "id": "768ad088",
   "metadata": {},
   "outputs": [],
   "source": []
  }
 ],
 "metadata": {
  "kernelspec": {
   "display_name": "Python 3 (ipykernel)",
   "language": "python",
   "name": "python3"
  },
  "language_info": {
   "codemirror_mode": {
    "name": "ipython",
    "version": 3
   },
   "file_extension": ".py",
   "mimetype": "text/x-python",
   "name": "python",
   "nbconvert_exporter": "python",
   "pygments_lexer": "ipython3",
   "version": "3.10.5"
  }
 },
 "nbformat": 4,
 "nbformat_minor": 5
}
